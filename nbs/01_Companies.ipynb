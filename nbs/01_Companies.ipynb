{
 "cells": [
  {
   "cell_type": "markdown",
   "id": "c3ff75f3-276a-4741-b4a8-2a28c4444be6",
   "metadata": {},
   "source": [
    "# Companies "
   ]
  },
  {
   "cell_type": "code",
   "execution_count": null,
   "id": "6504dd0c-21e3-4994-8d5b-83521952dc78",
   "metadata": {},
   "outputs": [],
   "source": [
    "#| default_exp companies"
   ]
  },
  {
   "cell_type": "markdown",
   "id": "fc85f16d-78a2-44ff-b0f1-8c9f6d3c6398",
   "metadata": {},
   "source": [
    "## For jobs"
   ]
  },
  {
   "cell_type": "markdown",
   "id": "5186c957-4d56-4b0e-abed-a62831f76659",
   "metadata": {},
   "source": [
    "- Go1\n",
    "- "
   ]
  },
  {
   "cell_type": "markdown",
   "id": "9ebc5d2a-7e36-450c-b5ab-c88f9aab157b",
   "metadata": {},
   "source": [
    "## Investment firms"
   ]
  },
  {
   "cell_type": "markdown",
   "id": "9e2efdca-5a07-4b60-81b5-976e8ec34e7e",
   "metadata": {},
   "source": [
    "- Main sequence - CSIRO backer\n",
    "- Y combinator"
   ]
  },
  {
   "cell_type": "markdown",
   "id": "ee234e68-9d44-4528-b111-605b053e221f",
   "metadata": {},
   "source": [
    "## Competition"
   ]
  },
  {
   "cell_type": "markdown",
   "id": "88b8bc99-184c-4221-944f-2e86d03bc3f5",
   "metadata": {},
   "source": [
    "- luceo\n",
    "- redback\n",
    "- "
   ]
  },
  {
   "cell_type": "code",
   "execution_count": null,
   "id": "2729802b-ad8a-4b80-98bf-355ed1240893",
   "metadata": {},
   "outputs": [],
   "source": []
  }
 ],
 "metadata": {
  "kernelspec": {
   "display_name": "python3",
   "language": "python",
   "name": "python3"
  }
 },
 "nbformat": 4,
 "nbformat_minor": 5
}
