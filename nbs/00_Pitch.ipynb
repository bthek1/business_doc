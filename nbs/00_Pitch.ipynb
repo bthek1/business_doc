{
 "cells": [
  {
   "cell_type": "markdown",
   "metadata": {},
   "source": [
    "# Pitch (3 mins)\n",
    " \n",
    "> 30 sec intro, 2 min, 30 sec"
   ]
  },
  {
   "cell_type": "code",
   "execution_count": null,
   "metadata": {},
   "outputs": [],
   "source": [
    "#| default_exp pitch"
   ]
  },
  {
   "cell_type": "markdown",
   "metadata": {},
   "source": [
    "- 3 mins\n",
    "- scripted\n",
    "- graphics"
   ]
  },
  {
   "cell_type": "markdown",
   "metadata": {},
   "source": [
    "## Pitch:"
   ]
  },
  {
   "cell_type": "markdown",
   "metadata": {},
   "source": [
    "- looked at a electricty bill and why on earth is it that much. WHY??\n",
    "- global warming - what companies can do to be more energy green"
   ]
  },
  {
   "cell_type": "markdown",
   "metadata": {},
   "source": [
    "elephant in the room - phisaver tech"
   ]
  },
  {
   "cell_type": "markdown",
   "metadata": {},
   "source": [
    "Suspense - storytelling \\\n",
    "Empathy - Oxytocin \\\n",
    "Laughter - Endorphin"
   ]
  },
  {
   "cell_type": "markdown",
   "metadata": {},
   "source": [
    "### Introduce"
   ]
  },
  {
   "cell_type": "markdown",
   "metadata": {},
   "source": [
    "- create credibility"
   ]
  },
  {
   "cell_type": "markdown",
   "metadata": {},
   "source": [
    "### points to hit \n",
    "- green energy\n",
    "- energy sector"
   ]
  },
  {
   "cell_type": "markdown",
   "metadata": {},
   "source": [
    "## Facts\n",
    "The percentage of expenses attributed to electricity expenses for Australian businesses can vary widely depending on the industry, size of the business, location, and energy efficiency measures implemented. However, typically, electricity expenses can range from 5% to 30% or even higher for some energy-intensive industries such as manufacturing or mining.\n",
    "\n",
    "For many businesses, especially those in sectors like retail, hospitality, or office-based industries, electricity expenses might represent a smaller portion of their overall expenses, perhaps around 5% to 15%."
   ]
  },
  {
   "cell_type": "markdown",
   "metadata": {},
   "source": [
    "## Investor groups (350 - 50 uq, 30 students, mainly VCs, family) \n",
    "\n",
    "> clients\\\n",
    "> partner, talent"
   ]
  },
  {
   "cell_type": "markdown",
   "metadata": {},
   "source": [
    "## To Watch "
   ]
  },
  {
   "cell_type": "markdown",
   "metadata": {},
   "source": [
    "**2022 venture iLab Accelerator Pitch Night**"
   ]
  },
  {
   "cell_type": "markdown",
   "metadata": {},
   "source": [
    "Bloom, Stripped Supply\\\n",
    "vacaylt, Graphics, Eclipse"
   ]
  },
  {
   "cell_type": "markdown",
   "metadata": {},
   "source": [
    "## Investment firms"
   ]
  },
  {
   "cell_type": "markdown",
   "metadata": {},
   "source": [
    "- Main sequence - CSIRO backer\n",
    "- Y combinator"
   ]
  },
  {
   "cell_type": "markdown",
   "metadata": {},
   "source": [
    "## Competition"
   ]
  },
  {
   "cell_type": "markdown",
   "metadata": {},
   "source": [
    "- luceo\n",
    "- redback\n",
    "- "
   ]
  },
  {
   "cell_type": "markdown",
   "metadata": {},
   "source": [
    "## Glen Richards "
   ]
  },
  {
   "cell_type": "markdown",
   "metadata": {},
   "source": [
    "- start small, local\n",
    "- lift your line of sight"
   ]
  },
  {
   "cell_type": "code",
   "execution_count": null,
   "metadata": {},
   "outputs": [],
   "source": []
  }
 ],
 "metadata": {
  "kernelspec": {
   "display_name": "python3",
   "language": "python",
   "name": "python3"
  }
 },
 "nbformat": 4,
 "nbformat_minor": 4
}
